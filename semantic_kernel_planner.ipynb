{
 "cells": [
  {
   "cell_type": "code",
   "execution_count": 1,
   "id": "d3810b21",
   "metadata": {
    "lines_to_next_cell": 0,
    "title": "settings"
   },
   "outputs": [],
   "source": [
    "import datetime\n",
    "from dotenv import load_dotenv\n",
    "load_dotenv('semantic-kernel/python/.env')\n",
    "import os\n",
    "OPENAI_API_KEY = os.getenv(\"OPENAI_API_KEY\")\n",
    "model = \"gpt-4-1106-preview\""
   ]
  },
  {
   "cell_type": "markdown",
   "metadata": {},
   "source": [
    "# With semantic kernel\n",
    "* Note semantic-kernel requires openai == 0.28, not compatible with v1.0 yet."
   ]
  },
  {
   "cell_type": "code",
   "execution_count": 2,
   "id": "4f8c3d37",
   "metadata": {
    "title": "create kernel with skills"
   },
   "outputs": [],
   "source": [
    "import semantic_kernel as sk\n",
    "from semantic_kernel.connectors.ai.open_ai import OpenAIChatCompletion\n",
    "from sk_custom_skills.Order import Order\n",
    "from semantic_kernel.planning import StepwisePlanner\n",
    "from semantic_kernel.planning.stepwise_planner.stepwise_planner_config import StepwisePlannerConfig\n",
    "\n",
    "# set up kernel\n",
    "kernel = sk.Kernel()\n",
    "kernel.add_chat_service(\"gpt-4\", OpenAIChatCompletion(model, OPENAI_API_KEY))\n",
    "\n",
    "# Add custom skills\n",
    "skills_directory = \"sk_custom_skills\"\n",
    "semantic_siklls = kernel.import_semantic_skill_from_directory(skills_directory, \"semantic_skills\")\n",
    "custom_plugin = kernel.import_skill(Order(), skill_name=\"order\")\n",
    "\n",
    "# function to add chat history to context\n",
    "def update_ask(user_input, chat_history, language=\"English\"):\n",
    "    return f\"\"\"\n",
    "        Answer the following questions from EC customer based on the past chat histroy in {language}.\n",
    "        Return policy : accept returns within 30 days from the delivery date with full refund without asking reason.\n",
    "        #### Chat History ####\n",
    "        {'; '.join(chat_history)}\n",
    "        #### User Input ####\n",
    "        {user_input} \"\"\""
   ]
  },
  {
   "cell_type": "code",
   "execution_count": 3,
   "metadata": {},
   "outputs": [],
   "source": [
    "# setup planner\n",
    "from semantic_kernel.planning import StepwisePlanner\n",
    "from semantic_kernel.planning.stepwise_planner.stepwise_planner_config import StepwisePlannerConfig\n",
    "planner = StepwisePlanner(\n",
    "    kernel, StepwisePlannerConfig(max_iterations=10, min_iteration_time_ms=1000)\n",
    ")"
   ]
  },
  {
   "cell_type": "code",
   "execution_count": 4,
   "id": "20264f24",
   "metadata": {
    "title": "execute with user input"
   },
   "outputs": [
    {
     "name": "stdout",
     "output_type": "stream",
     "text": [
      "The status of your order for item B with order_id 2 is completed. It was delivered on November 23, 2023. If you need further assistance or have any other questions, feel free to ask!\n"
     ]
    }
   ],
   "source": [
    "#%% execute with user input\n",
    "chat_history = []\n",
    "user_input = \"What is the status of my order for B? order_id is 2.\"\n",
    "ask = update_ask(user_input, chat_history)\n",
    "\n",
    "stepwise_plan = planner.create_plan(goal=ask)\n",
    "result = await stepwise_plan.invoke_async()\n",
    "print(result)\n",
    "\n",
    "# update chat history\n",
    "chat_history.append(\"User: \" + user_input + \"\\n\")\n",
    "chat_history.append(\"Assistant: \" + result.variables['input'])"
   ]
  },
  {
   "cell_type": "code",
   "execution_count": 5,
   "metadata": {},
   "outputs": [
    {
     "name": "stdout",
     "output_type": "stream",
     "text": [
      "Step: 0\n",
      "Description: Execute a plan\n",
      "Function: StepwisePlanner.ExecutePlan\n",
      "  Output:\n",
      " This was my previous work (but they haven't seen any of it! They only see what I return as final answer):\n",
      "  [THOUGHT]\n",
      "  The customer is asking for the status of their order for item B with the order_id of 2. I need to use the order.get_order_status function to retrieve this information.\n",
      "  [ACTION]\n",
      "  {\"action\": \"order.get_order_status\", \"action_variables\": {\"input\": \"2\"}}\n",
      "  [OBSERVATION]\n",
      "  {'item_name': 'B', 'order_date': '2023-11-22', 'delivery_status': 'completed', 'delivery_date': '2023-11-23'}\n",
      "  [THOUGHT]\n",
      "  None\n"
     ]
    }
   ],
   "source": [
    "# to check what is happening behind the scene\n",
    "for index, step in enumerate(stepwise_plan._steps):\n",
    "    print(\"Step:\", index)\n",
    "    print(\"Description:\",step.description)\n",
    "    print(\"Function:\", step.skill_name + \".\" + step._function.name)\n",
    "    if len(step._outputs) > 0:\n",
    "        print( \"  Output:\\n\", str.replace(result[step._outputs[0]],\"\\n\", \"\\n  \"))"
   ]
  },
  {
   "cell_type": "code",
   "execution_count": 6,
   "metadata": {},
   "outputs": [
    {
     "name": "stdout",
     "output_type": "stream",
     "text": [
      "Yes, you can return the item. Our return policy allows you to return items within 30 days from the delivery date for a full refund without any need to provide a reason. Since your item B was delivered on November 23, 2023, and today is December 1, 2023, you are within the 30-day window to initiate a return.\n"
     ]
    }
   ],
   "source": [
    "# follow up question\n",
    "user_input = \"Can I return this item?\"\n",
    "ask = update_ask(user_input, chat_history)\n",
    "stepwise_plan = planner.create_plan(goal=ask)\n",
    "result = await stepwise_plan.invoke_async()\n",
    "print(result)"
   ]
  },
  {
   "cell_type": "code",
   "execution_count": 7,
   "metadata": {},
   "outputs": [
    {
     "name": "stdout",
     "output_type": "stream",
     "text": [
      "Step: 0\n",
      "Description: Execute a plan\n",
      "Function: StepwisePlanner.ExecutePlan\n",
      "  Output:\n",
      " This was my previous work (but they haven't seen any of it! They only see what I return as final answer):\n",
      "  [THOUGHT]\n",
      "  The user is asking if they can return an item, presumably item B, which was mentioned in the chat history. To answer this question, I need to know today's date to calculate if the return is within the 30-day return policy window from the delivery date, which was November 23, 2023. I will use the \"order.current_date\" function to get today's date.\n",
      "  [ACTION]\n",
      "  {\"action\": \"order.current_date\", \"action_variables\": {\"input\": \"\"}}\n",
      "  [OBSERVATION]\n",
      "  2023-12-01\n",
      "  [THOUGHT]\n",
      "  None\n"
     ]
    }
   ],
   "source": [
    "# to check what is happening behind the scene\n",
    "for index, step in enumerate(stepwise_plan._steps):\n",
    "    print(\"Step:\", index)\n",
    "    print(\"Description:\",step.description)\n",
    "    print(\"Function:\", step.skill_name + \".\" + step._function.name)\n",
    "    if len(step._outputs) > 0:\n",
    "        print( \"  Output:\\n\", str.replace(result[step._outputs[0]],\"\\n\", \"\\n  \"))"
   ]
  },
  {
   "cell_type": "code",
   "execution_count": 8,
   "metadata": {},
   "outputs": [
    {
     "name": "stdout",
     "output_type": "stream",
     "text": [
      "Oui, vous pouvez retourner l'article. Il a été livré le 23 novembre 2023 et comme aujourd'hui nous sommes le 1er décembre 2023, vous êtes dans le délai de retour de 30 jours.\n"
     ]
    }
   ],
   "source": [
    "# same but ask to repply in French\n",
    "user_input = \"Can I return this item?\"\n",
    "ask = update_ask(user_input, chat_history, language=\"French\")\n",
    "stepwise_plan = planner.create_plan(goal=ask)\n",
    "result = await stepwise_plan.invoke_async()\n",
    "print(result)"
   ]
  },
  {
   "cell_type": "code",
   "execution_count": 9,
   "metadata": {},
   "outputs": [
    {
     "name": "stdout",
     "output_type": "stream",
     "text": [
      "Step: 0\n",
      "Description: Execute a plan\n",
      "Function: StepwisePlanner.ExecutePlan\n",
      "  Output:\n",
      " This was my previous work (but they haven't seen any of it! They only see what I return as final answer):\n",
      "  [THOUGHT]\n",
      "  The user is asking if they can return an item. Based on the return policy provided, the customer can return items within 30 days from the delivery date with a full refund without providing a reason. To answer the user's question, I need to determine the current date and compare it with the delivery date of November 23, 2023, to see if it falls within the 30-day return window. I will use the \"order.current_date\" function to get today's date.\n",
      "  [ACTION]\n",
      "  {\"action\": \"order.current_date\", \"action_variables\": {\"input\": \"\"}}\n",
      "  [OBSERVATION]\n",
      "  2023-12-01\n",
      "  [THOUGHT]\n",
      "  The current date is December 1, 2023, as observed from the action taken. The delivery date of the item was November 23, 2023. To determine if the item can be returned, I need to calculate if December 1, 2023, is within 30 days of November 23, 2023. Since December 1 is 8 days after November 23, it falls within the 30-day return window. Therefore, the user can return the item. I will now translate the response into French using the \"semantic_skills.translator\" function.\n",
      "  [ACTION]\n",
      "  {\"action\": \"semantic_skills.translator\", \"action_variables\": {\"language\": \"French\", \"input\": \"Yes, you can return the item. It was delivered on November 23, 2023, and since today is December 1, 2023, you are within the 30-day return window.\"}}\n",
      "  [OBSERVATION]\n",
      "  Oui, vous pouvez retourner l'article. Il a été livré le 23 novembre 2023 et comme aujourd'hui nous sommes le 1er décembre 2023, vous êtes dans le délai de retour de 30 jours.\n",
      "  [THOUGHT]\n",
      "  None\n"
     ]
    }
   ],
   "source": [
    "# to check what is happening behind the scene\n",
    "for index, step in enumerate(stepwise_plan._steps):\n",
    "    print(\"Step:\", index)\n",
    "    print(\"Description:\",step.description)\n",
    "    print(\"Function:\", step.skill_name + \".\" + step._function.name)\n",
    "    if len(step._outputs) > 0:\n",
    "        print( \"  Output:\\n\", str.replace(result[step._outputs[0]],\"\\n\", \"\\n  \"))"
   ]
  },
  {
   "cell_type": "markdown",
   "metadata": {},
   "source": [
    "### Ref: \n",
    "* Documentation https://learn.microsoft.com/en-us/semantic-kernel/\n",
    "* Github https://github.com/microsoft/semantic-kernel"
   ]
  }
 ],
 "metadata": {
  "jupytext": {
   "cell_metadata_filter": "title,-all",
   "main_language": "python",
   "notebook_metadata_filter": "-all"
  },
  "kernelspec": {
   "display_name": "semantic_kernel",
   "language": "python",
   "name": "python3"
  },
  "language_info": {
   "codemirror_mode": {
    "name": "ipython",
    "version": 3
   },
   "file_extension": ".py",
   "mimetype": "text/x-python",
   "name": "python",
   "nbconvert_exporter": "python",
   "pygments_lexer": "ipython3",
   "version": "3.11.5"
  }
 },
 "nbformat": 4,
 "nbformat_minor": 5
}
