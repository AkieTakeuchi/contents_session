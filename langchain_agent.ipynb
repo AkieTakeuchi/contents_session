{
 "cells": [
  {
   "cell_type": "code",
   "execution_count": 9,
   "id": "002b8361",
   "metadata": {
    "lines_to_next_cell": 1,
    "title": "settings"
   },
   "outputs": [],
   "source": [
    "import datetime\n",
    "from dotenv import load_dotenv\n",
    "load_dotenv('semantic-kernel/python/.env')\n",
    "import os\n",
    "OPENAI_API_KEY = os.getenv(\"OPENAI_API_KEY\")\n",
    "model = \"gpt-4-1106-preview\""
   ]
  },
  {
   "cell_type": "markdown",
   "metadata": {},
   "source": [
    "# Wtih langchain"
   ]
  },
  {
   "cell_type": "code",
   "execution_count": 3,
   "id": "1dcc0101",
   "metadata": {
    "lines_to_next_cell": 0,
    "title": "custom functions"
   },
   "outputs": [],
   "source": [
    "from langchain.agents import tool\n",
    "@tool\n",
    "def current_date()-> str:\n",
    "    \"\"\"Get today's date\"\"\"\n",
    "    return datetime.datetime.now().strftime(\"%Y-%m-%d\")\n",
    "\n",
    "# mock API call\n",
    "@tool\n",
    "def get_order_status(order_id:str) -> str:\n",
    "    \"\"\"Get order delivery status and date\"\"\"\n",
    "    if order_id == '1':\n",
    "        order = {'item_name':'A', 'order_date':'2023-10-10', 'delivery_status':'completed', 'delivery_date':'2023-10-11'}\n",
    "    if order_id == '2':\n",
    "        order = {'item_name':'B', 'order_date':'2023-11-22', 'delivery_status':'completed', 'delivery_date':'2023-11-23'}\n",
    "    if order_id == '3':\n",
    "        order = {'item_name':'C', 'order_date':'2023-12-01', 'delivery_status':'in delivery', 'delivery_date':'2023-12-15'}\n",
    "    return str(order)"
   ]
  },
  {
   "cell_type": "code",
   "execution_count": 11,
   "metadata": {},
   "outputs": [],
   "source": [
    "from langchain.chat_models import ChatOpenAI\n",
    "from langchain.prompts import ChatPromptTemplate, MessagesPlaceholder\n",
    "from langchain.tools.render import format_tool_to_openai_function\n",
    "from langchain.agents.format_scratchpad import format_to_openai_function_messages\n",
    "from langchain.agents.output_parsers import OpenAIFunctionsAgentOutputParser\n",
    "from langchain.schema.messages import AIMessage, HumanMessage\n",
    "\n",
    "# component of agent\n",
    "llm = ChatOpenAI(model=model, temperature=0)\n",
    "tools = [current_date, get_order_status]\n",
    "MEMORY_KEY = \"chat_history\"\n",
    "prompt = ChatPromptTemplate.from_messages(\n",
    "    [\n",
    "        (\"system\", \"\"\"You are chatbot who answers questions from EC customer about their orders and returns. \n",
    "        Return policy : accept returns within 30 days from the delivery date with full refund without asking reason.\"\"\"),\n",
    "        MessagesPlaceholder(variable_name=MEMORY_KEY),\n",
    "        (\"user\", \"{input}\"),\n",
    "        MessagesPlaceholder(variable_name=\"agent_scratchpad\"),\n",
    "    ]\n",
    ")\n",
    "\n",
    "#llm + tool\n",
    "llm_with_tools = llm.bind(functions=[format_tool_to_openai_function(t) for t in tools])\n",
    "\n",
    "#Define agent\n",
    "agent = (\n",
    "    {\n",
    "        \"input\": lambda x: x[\"input\"],\n",
    "        \"agent_scratchpad\": lambda x: format_to_openai_function_messages(\n",
    "            x[\"intermediate_steps\"]\n",
    "        ),\n",
    "        \"chat_history\": lambda x: x[\"chat_history\"],\n",
    "    }\n",
    "    | prompt\n",
    "    | llm_with_tools\n",
    "    | OpenAIFunctionsAgentOutputParser()\n",
    ")"
   ]
  },
  {
   "cell_type": "code",
   "execution_count": 18,
   "metadata": {},
   "outputs": [],
   "source": [
    "# Execute agent\n",
    "from langchain.agents import AgentExecutor\n",
    "agent_executor = AgentExecutor(agent=agent, tools=tools, verbose=True)"
   ]
  },
  {
   "cell_type": "code",
   "execution_count": 19,
   "metadata": {},
   "outputs": [
    {
     "name": "stdout",
     "output_type": "stream",
     "text": [
      "\n",
      "\n",
      "\u001b[1m> Entering new AgentExecutor chain...\u001b[0m\n",
      "\u001b[32;1m\u001b[1;3m\n",
      "Invoking: `get_order_status` with `{'order_id': '2'}`\n",
      "\n",
      "\n",
      "\u001b[0m\u001b[33;1m\u001b[1;3m{'item_name': 'B', 'order_date': '2023-11-22', 'delivery_status': 'completed', 'delivery_date': '2023-11-23'}\u001b[0m\u001b[32;1m\u001b[1;3mThe status of your order for item B with order ID 2 is completed. It was delivered on November 23, 2023. If you have any further questions or need assistance with your order, feel free to ask.\u001b[0m\n",
      "\n",
      "\u001b[1m> Finished chain.\u001b[0m\n"
     ]
    }
   ],
   "source": [
    "# start a thread\n",
    "chat_history = []\n",
    "user_input = \"What is the status of my order for B? order_id is 2.\"\n",
    "result = agent_executor.invoke({\"input\": user_input, \"chat_history\": chat_history})\n",
    "chat_history.extend(\n",
    "    [\n",
    "        HumanMessage(content=user_input),\n",
    "        AIMessage(content=result[\"output\"]),\n",
    "    ]\n",
    ")"
   ]
  },
  {
   "cell_type": "code",
   "execution_count": 20,
   "metadata": {},
   "outputs": [
    {
     "name": "stdout",
     "output_type": "stream",
     "text": [
      "\n",
      "\n",
      "\u001b[1m> Entering new AgentExecutor chain...\u001b[0m\n",
      "\u001b[32;1m\u001b[1;3m\n",
      "Invoking: `current_date` with `{}`\n",
      "\n",
      "\n",
      "\u001b[0m\u001b[36;1m\u001b[1;3m2023-11-30\u001b[0m\u001b[32;1m\u001b[1;3mYes, you can return the item. Since it was delivered on November 23, 2023, and today is November 30, 2023, you are within the 30-day return window from the delivery date. You can proceed with the return for a full refund without needing to provide a reason. If you need instructions on how to initiate the return process, please let me know, and I'll be happy to assist you further.\u001b[0m\n",
      "\n",
      "\u001b[1m> Finished chain.\u001b[0m\n"
     ]
    }
   ],
   "source": [
    "user_input = \"Can I return this item?\"\n",
    "result = agent_executor.invoke({\"input\": user_input, \"chat_history\": chat_history})\n",
    "chat_history.extend(\n",
    "    [\n",
    "        HumanMessage(content=user_input),\n",
    "        AIMessage(content=result[\"output\"]),\n",
    "    ]\n",
    ")"
   ]
  }
 ],
 "metadata": {
  "jupytext": {
   "cell_metadata_filter": "title,-all",
   "main_language": "python",
   "notebook_metadata_filter": "-all"
  },
  "kernelspec": {
   "display_name": "langchain",
   "language": "python",
   "name": "python3"
  },
  "language_info": {
   "codemirror_mode": {
    "name": "ipython",
    "version": 3
   },
   "file_extension": ".py",
   "mimetype": "text/x-python",
   "name": "python",
   "nbconvert_exporter": "python",
   "pygments_lexer": "ipython3",
   "version": "3.11.5"
  }
 },
 "nbformat": 4,
 "nbformat_minor": 5
}
