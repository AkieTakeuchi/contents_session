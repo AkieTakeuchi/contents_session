{
 "cells": [
  {
   "cell_type": "code",
   "execution_count": 1,
   "id": "5817e679",
   "metadata": {
    "lines_to_next_cell": 1,
    "title": "settings"
   },
   "outputs": [],
   "source": [
    "# settings\n",
    "from dotenv import load_dotenv\n",
    "load_dotenv('semantic-kernel/python/.env')\n",
    "import os\n",
    "OPENAI_API_KEY = os.getenv(\"OPENAI_API_KEY\")\n",
    "model = \"gpt-4-1106-preview\""
   ]
  },
  {
   "cell_type": "markdown",
   "metadata": {},
   "source": [
    "# OpenAI SDK\n",
    "* this requires opanai >= 1.0.0. Be sure to upgrade the package but by doing so, old code won't work any more."
   ]
  },
  {
   "cell_type": "code",
   "execution_count": 2,
   "id": "10484a49",
   "metadata": {
    "lines_to_next_cell": 0,
    "title": "custom functions"
   },
   "outputs": [],
   "source": [
    "# custom functions\n",
    "import datetime\n",
    "def current_date(args:dict):\n",
    "    return datetime.datetime.now().strftime(\"%Y-%m-%d\")\n",
    "\n",
    "# mock API call\n",
    "def get_order_status(args:dict):\n",
    "    if args['order_id'] == '1':\n",
    "        order = {'item_name':'A', 'order_date':'2023-10-10', 'delivery_status':'completed', 'delivery_date':'2023-10-11'}\n",
    "    if args['order_id'] == '2':\n",
    "        order = {'item_name':'B', 'order_date':'2023-11-22', 'delivery_status':'completed', 'delivery_date':'2023-11-23'}\n",
    "    if args['order_id'] == '3':\n",
    "        order = {'item_name':'C', 'order_date':'2023-12-01', 'delivery_status':'in delivery', 'delivery_date':'2023-12-15'}\n",
    "    return str(order)"
   ]
  },
  {
   "cell_type": "code",
   "execution_count": 5,
   "id": "32e8e669",
   "metadata": {
    "title": "Define assistant"
   },
   "outputs": [],
   "source": [
    "# create instance with tools\n",
    "from openai import OpenAI\n",
    "import json\n",
    "import time\n",
    "client = OpenAI()\n",
    "assistant = client.beta.assistants.create(\n",
    "    name=\"EC assistant\",\n",
    "    instructions=\"You answer questions from EC customer about their orders and returns\",\n",
    "    tools=[{\n",
    "      \"type\": \"function\",\n",
    "                \"function\": {\n",
    "                    \"name\": \"get_order_status\",\n",
    "                    \"description\": \"Get order delivery status and date\",\n",
    "                    \"parameters\": {\n",
    "                        \"type\": \"object\",\n",
    "                        \"properties\": {\n",
    "                        \"order_id\": {\"type\": \"string\", \"description\": \"ID to identify the order\"}\n",
    "                        },\n",
    "                    \"required\": [\"order_id\"],\n",
    "                    }\n",
    "                }\n",
    "    }, {\n",
    "        \"type\": \"function\", \n",
    "        \"function\": {\"name\": \"current_date\", \n",
    "            \"description\": \"Get today's date\", \n",
    "            \"parameters\": {'type': \"object\", 'properties': {}, 'required': [],}}\n",
    "    }],\n",
    "model= model\n",
    ")"
   ]
  },
  {
   "cell_type": "code",
   "execution_count": 20,
   "id": "65a53609",
   "metadata": {
    "title": "Start a thread"
   },
   "outputs": [],
   "source": [
    "# create thread and add messages\n",
    "thread = client.beta.threads.create()\n",
    "message = client.beta.threads.messages.create(\n",
    "    thread_id=thread.id,\n",
    "    role=\"user\",\n",
    "    content=\"What is the status of my order for B? order_id is 2.\" \n",
    ")\n",
    "\n",
    "run = client.beta.threads.runs.create(\n",
    "  thread_id=thread.id,\n",
    "  assistant_id=assistant.id,\n",
    "  instructions=\"Please address the user as Jane Doe. Return policy : accept returns within 30 days from the delivery date with full refund without asking reason.\"\n",
    ")"
   ]
  },
  {
   "cell_type": "code",
   "execution_count": 19,
   "metadata": {},
   "outputs": [
    {
     "name": "stdout",
     "output_type": "stream",
     "text": [
      "requires_action\n"
     ]
    }
   ],
   "source": [
    "# get response but it stops at the first function call function need to excecuted separately and the result should be added to the thread.\n",
    "run = client.beta.threads.runs.retrieve(\n",
    "    thread_id=thread.id,\n",
    "    run_id=run.id\n",
    "    )\n",
    "print(run.status)"
   ]
  },
  {
   "cell_type": "code",
   "execution_count": 9,
   "metadata": {},
   "outputs": [
    {
     "name": "stdout",
     "output_type": "stream",
     "text": [
      "Run(id='run_hf7FcCxxdKQTx8FDOSlYi92b', assistant_id='asst_VuLXzH2SDIJAaqVrhRxRWBaO', cancelled_at=None, completed_at=None, created_at=1701454796, expires_at=1701455396, failed_at=None, file_ids=[], instructions='Please address the user as Jane Doe. Return policy : accept returns within 30 days from the delivery date with full refund without asking reason.', last_error=None, metadata={}, model='gpt-4-1106-preview', object='thread.run', required_action=None, started_at=1701454797, status='in_progress', thread_id='thread_IP7GEJZ4S95XSjMeO105qZ40', tools=[ToolAssistantToolsFunction(function=FunctionDefinition(name='get_order_status', parameters={'type': 'object', 'properties': {'order_id': {'type': 'string', 'description': 'ID to identify the order'}}, 'required': ['order_id']}, description='Get order delivery status and date'), type='function'), ToolAssistantToolsFunction(function=FunctionDefinition(name='current_date', parameters={'type': 'object', 'properties': {}, 'required': []}, description=\"Get today's date\"), type='function')])\n"
     ]
    }
   ],
   "source": [
    "# API response is quite complicated object. You need to parse it to get id, name of function to run, and arguments to pass to the function.\n",
    "print(run)"
   ]
  },
  {
   "cell_type": "code",
   "execution_count": 21,
   "id": "339626b2",
   "metadata": {
    "title": "check status and supply tool output if required"
   },
   "outputs": [
    {
     "name": "stdout",
     "output_type": "stream",
     "text": [
      "requires_action\n",
      "in_progress\n",
      "completed\n"
     ]
    }
   ],
   "source": [
    "while run.status in ['queued','in_progress','requires_action']:\n",
    "    run = client.beta.threads.runs.retrieve(\n",
    "      thread_id=thread.id,\n",
    "      run_id=run.id\n",
    "    )\n",
    "    print(run.status)\n",
    "\n",
    "    if run.status == 'requires_action':\n",
    "        tool_calls = run.required_action.submit_tool_outputs.tool_calls\n",
    "        ids = []\n",
    "        function_response = []\n",
    "        for i in tool_calls:\n",
    "            ids.append(i.id)\n",
    "            function_name = i.function.name\n",
    "            function_arguments = json.loads(i.function.arguments)\n",
    "            function_response.append(globals()[function_name](function_arguments))\n",
    "        run = client.beta.threads.runs.submit_tool_outputs(\n",
    "            thread_id=thread.id,\n",
    "            run_id=run.id,\n",
    "            tool_outputs=[{'tool_call_id':i, 'output':r}  for i,r in zip(ids,function_response)]\n",
    "        )\n",
    "    time.sleep(3)"
   ]
  },
  {
   "cell_type": "code",
   "execution_count": 12,
   "id": "9cb1bd33",
   "metadata": {
    "title": "View resulted conversation"
   },
   "outputs": [
    {
     "name": "stdout",
     "output_type": "stream",
     "text": [
      "user : What is the status of my order for B? order_id is 2.\n",
      "assistant : The status of your order for the item \"B\" with order_id \"2\" is completed. It was delivered on November 23, 2023. If you have any further questions or concerns, please let me know, Jane Doe.\n"
     ]
    }
   ],
   "source": [
    "messages = client.beta.threads.messages.list(\n",
    "  thread_id=thread.id\n",
    ")\n",
    "\n",
    "for i in reversed(messages.data):\n",
    "    print(i.role, ':', i.content[0].text.value)"
   ]
  },
  {
   "cell_type": "code",
   "execution_count": 13,
   "id": "85c519bf",
   "metadata": {
    "title": "View steps executed"
   },
   "outputs": [
    {
     "name": "stdout",
     "output_type": "stream",
     "text": [
      "MessageCreationStepDetails(message_creation=MessageCreation(message_id='msg_6Qt1nTlkVafRhk5XAXBoKuXi'), type='message_creation')\n",
      "ToolCallsStepDetails(tool_calls=[FunctionToolCall(id='call_MIpCkZm87R3Op7EmrsNGTnLU', function=Function(arguments='{\"order_id\":\"2\"}', name='get_order_status', output=\"{'item_name': 'B', 'order_date': '2023-11-22', 'delivery_status': 'completed', 'delivery_date': '2023-11-23'}\"), type='function')], type='tool_calls')\n"
     ]
    }
   ],
   "source": [
    "steps = client.beta.threads.runs.steps.list(\n",
    "  thread_id=thread.id,\n",
    "  run_id=run.id\n",
    ")\n",
    "\n",
    "for i in steps.data:\n",
    "    print(i.step_details)"
   ]
  },
  {
   "cell_type": "code",
   "execution_count": 22,
   "metadata": {},
   "outputs": [],
   "source": [
    "message = client.beta.threads.messages.create(\n",
    "    thread_id=thread.id,\n",
    "    role=\"user\",\n",
    "    content=\"Can I return this item?\" \n",
    ")\n",
    "\n",
    "run = client.beta.threads.runs.create(\n",
    "  thread_id=thread.id,\n",
    "  assistant_id=assistant.id,\n",
    "  instructions=\"Please address the user as Jane Doe. Return policy : accept returns within 30 days from the delivery date with full refund without asking reason.\"\n",
    ")"
   ]
  },
  {
   "cell_type": "code",
   "execution_count": 23,
   "metadata": {},
   "outputs": [
    {
     "name": "stdout",
     "output_type": "stream",
     "text": [
      "requires_action\n",
      "in_progress\n",
      "in_progress\n",
      "completed\n"
     ]
    }
   ],
   "source": [
    "while run.status in ['queued','in_progress','requires_action']:\n",
    "    run = client.beta.threads.runs.retrieve(\n",
    "      thread_id=thread.id,\n",
    "      run_id=run.id\n",
    "    )\n",
    "    print(run.status)\n",
    "\n",
    "    if run.status == 'requires_action':\n",
    "        tool_calls = run.required_action.submit_tool_outputs.tool_calls\n",
    "        ids = []\n",
    "        function_response = []\n",
    "        for i in tool_calls:\n",
    "            ids.append(i.id)\n",
    "            function_name = i.function.name\n",
    "            function_arguments = json.loads(i.function.arguments)\n",
    "            function_response.append(globals()[function_name](function_arguments))\n",
    "        run = client.beta.threads.runs.submit_tool_outputs(\n",
    "            thread_id=thread.id,\n",
    "            run_id=run.id,\n",
    "            tool_outputs=[{'tool_call_id':i, 'output':r}  for i,r in zip(ids,function_response)]\n",
    "        )\n",
    "    time.sleep(3)"
   ]
  },
  {
   "cell_type": "code",
   "execution_count": 24,
   "metadata": {},
   "outputs": [
    {
     "name": "stdout",
     "output_type": "stream",
     "text": [
      "user : What is the status of my order for B? order_id is 2.\n",
      "assistant : The status of your order for item B with order ID 2 is that it has been completed. The item was delivered on November 23, 2023. If you have any further inquiries or need assistance with this order, please let me know.\n",
      "user : Can I return this item?\n",
      "assistant : As of the current date, December 1, 2023, you are still within the 30-day return window that begins from the delivery date of November 23, 2023. Therefore, you can return the item for a full refund without needing to provide a reason for the return.\n",
      "\n",
      "If you would like to proceed with the return or need instructions on how to do so, please let me know, and I'll be happy to assist you further.\n"
     ]
    }
   ],
   "source": [
    "messages = client.beta.threads.messages.list(\n",
    "    thread_id=thread.id\n",
    ")\n",
    "\n",
    "for i in reversed(messages.data):\n",
    "    print(i.role, ':', i.content[0].text.value)"
   ]
  }
 ],
 "metadata": {
  "jupytext": {
   "cell_metadata_filter": "title,-all",
   "main_language": "python",
   "notebook_metadata_filter": "-all"
  },
  "kernelspec": {
   "display_name": "semantic_kernel",
   "language": "python",
   "name": "python3"
  },
  "language_info": {
   "codemirror_mode": {
    "name": "ipython",
    "version": 3
   },
   "file_extension": ".py",
   "mimetype": "text/x-python",
   "name": "python",
   "nbconvert_exporter": "python",
   "pygments_lexer": "ipython3",
   "version": "3.11.5"
  }
 },
 "nbformat": 4,
 "nbformat_minor": 5
}
